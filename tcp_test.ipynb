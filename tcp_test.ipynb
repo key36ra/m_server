{
 "cells": [
  {
   "cell_type": "code",
   "execution_count": 2,
   "metadata": {
    "collapsed": true
   },
   "outputs": [],
   "source": [
    "import sys\n",
    "import socket\n",
    "import getopt\n",
    "import threading\n",
    "import subprocess"
   ]
  },
  {
   "cell_type": "markdown",
   "metadata": {},
   "source": [
    "## TCP Server"
   ]
  },
  {
   "cell_type": "code",
   "execution_count": null,
   "metadata": {},
   "outputs": [],
   "source": [
    "bind_host = \"192.168.0.7\"\n",
    "bind_port = 8080\n",
    "\n",
    "server = socket.socket(socket.AF_INET, socket.SOCK_STREAM)\n",
    "server.setsockopt(socket.SOL_SOCKET, socket.SO_REUSEADDR, 1)\n",
    "server.bind((bind_host, bind_port))\n",
    "server.listen(10)\n",
    "\n",
    "print(\"[*]Listening on %s:%d ...\" % (bind_host, bind_port))\n",
    "cli_sock, cli_addr = server.accept()\n",
    "\n",
    "while True:\n",
    "    req = cli_sock.recv(1024)\n",
    "    print(\"Received ==> %s\" % (req))\n",
    "    if req == \"\":\n",
    "        break\n",
    "    print(\"Type message...\")\n",
    "    s_req = raw_input()\n",
    "    if s_req == \"\":\n",
    "        break\n",
    "    print(\"Wait...\")\n",
    "    \n",
    "    cli_sock.sendall(s_req)\n",
    "cli_sock.close()"
   ]
  },
  {
   "cell_type": "markdown",
   "metadata": {},
   "source": [
    "## TCP Client"
   ]
  },
  {
   "cell_type": "code",
   "execution_count": null,
   "metadata": {},
   "outputs": [],
   "source": [
    "target_host = \"192.168.0.7\"\n",
    "target_port = 8080\n",
    "\n",
    "client = socket.socket(socket.AF_INET, socket.SOCK_STREAM)\n",
    "client.connect((target_host, target_port))\n",
    "#client.send(\"GET / HTTP/1.1\\r\\nHost: google.com\\r\\n\\r\\n\")\n",
    "response = client.recv(4096)\n",
    "print(response)"
   ]
  }
 ],
 "metadata": {
  "kernelspec": {
   "display_name": "Python 3",
   "language": "python",
   "name": "python3"
  },
  "language_info": {
   "codemirror_mode": {
    "name": "ipython",
    "version": 3
   },
   "file_extension": ".py",
   "mimetype": "text/x-python",
   "name": "python",
   "nbconvert_exporter": "python",
   "pygments_lexer": "ipython3",
   "version": "3.6.3"
  }
 },
 "nbformat": 4,
 "nbformat_minor": 2
}
