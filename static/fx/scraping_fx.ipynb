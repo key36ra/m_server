{
 "cells": [
  {
   "cell_type": "code",
   "execution_count": 1,
   "metadata": {
    "collapsed": true
   },
   "outputs": [],
   "source": [
    "import urllib.request\n",
    "from bs4 import BeautifulSoup\n",
    "\n",
    "import numpy as np\n",
    "import pandas as pd\n",
    "\n",
    "import seaborn as sns\n",
    "import matplotlib.pyplot as plt\n",
    "sns.set()\n",
    "%matplotlib inline"
   ]
  },
  {
   "cell_type": "code",
   "execution_count": 8,
   "metadata": {
    "collapsed": true
   },
   "outputs": [],
   "source": [
    "url = \"https://info.finance.yahoo.co.jp/fx/detail/?code=USDJPY=FX\"\n",
    "response = urllib.request.urlopen(url)\n",
    "soup = BeautifulSoup(response, 'html.parser')"
   ]
  },
  {
   "cell_type": "code",
   "execution_count": 9,
   "metadata": {},
   "outputs": [
    {
     "name": "stdout",
     "output_type": "stream",
     "text": [
      "[<span class=\"yj-guid\"><a id=\"pagetop\" name=\"pagetop\"></a><img alt=\"このページの先頭です\" height=\"1\" src=\"https://s.yimg.jp/images/clear.gif\" width=\"1\"/></span>, <span class=\"yj-skip\"><a href=\"#contents-start\"><img alt=\"このページの本文へ\" height=\"1\" src=\"https://s.yimg.jp/images/clear.gif\" width=\"1\"/></a></span>, <span class=\"ymuiArrow1\"><a href=\"https://rdsig.yahoo.co.jp/finance/stocks/g_navi/sitemap/RV=1/RU=aHR0cHM6Ly9maW5hbmNlLnlhaG9vLmNvLmpwL3NpdGVtYXAv\">サイトマップ</a></span>, <span> を  </span>, <span> に </span>, <span class=\"yj-guid\"><a id=\"contents-start\" name=\"contents-start\"></a><img alt=\"ここから本文です\" height=\"1\" src=\"https://s.yimg.jp/images/clear.gif\" width=\"1\"/></span>, <span class=\"addChart\"><a href=\"https://info.finance.yahoo.co.jp/portfolio/add/?code=USDJPY=FX&amp;.cancel=https%3A%2F%2Finfo.finance.yahoo.co.jp%2Ffx%2Fdetail%2F%3Fcode%3DUSDJPY%3DFX&amp;nc=-100\" onmousedown=\"this.href='https://info.finance.yahoo.co.jp/portfolio/add/?code=USDJPY=FX&amp;.cancel=https%3A%2F%2Finfo.finance.yahoo.co.jp%2Ffx%2Fdetail%2F%3Fcode%3DUSDJPY%3DFX&amp;nc=-100'\"></a></span>, <span class=\"flagWicon40 icoUsdJpy40\">米ドル/円</span>, <span class=\"large\">55</span>, <span class=\"large\">56</span>, <span class=\"large\">23</span>, <span class=\"large\">74</span>, <span class=\"large\">12</span>, <span class=\"short\"><input data-ylk=\"slk:shrtterm;pos:0\" id=\"width1\" name=\"width\" onclick=\"javascript:YAHOO.JP.fin.rapid.beaconClick('detail', 'shrtterm', 8);\" type=\"radio\" value=\"long\"/><label for=\"width1\">短期</label></span>, <span class=\"middle\"><input checked=\"\" data-ylk=\"slk:midterm;pos:0\" id=\"width2\" name=\"width\" onclick=\"javascript:YAHOO.JP.fin.rapid.beaconClick('detail', 'midterm', 9);\" type=\"radio\" value=\"normal\"/><label for=\"width2\">中期</label></span>, <span class=\"long\"><input data-ylk=\"slk:longterm;pos:0\" id=\"width3\" name=\"width\" onclick=\"javascript:YAHOO.JP.fin.rapid.beaconClick('detail', 'longterm', 10);\" type=\"radio\" value=\"short\"/><label for=\"width3\">長期</label></span>, <span class=\"candle\"><input checked=\"\" data-ylk=\"slk:candle;pos:0\" id=\"type1\" name=\"type\" onclick=\"javascript:YAHOO.JP.fin.rapid.beaconClick('detail', 'candle', 11);\" type=\"radio\" value=\"candle\"/><label for=\"type1\">ローソク</label></span>, <span class=\"bar\"><input data-ylk=\"slk:bar;pos:0\" id=\"type2\" name=\"type\" onclick=\"javascript:YAHOO.JP.fin.rapid.beaconClick('detail', 'bar', 12);\" type=\"radio\" value=\"bar\"/><label for=\"type2\">線</label></span>, <span class=\"icoAverage pink\" title=\"移動平均\">移動平均</span>, <span>5</span>, <span class=\"icoAverage orange\" title=\"移動平均\">移動平均</span>, <span>25</span>, <span class=\"icoAverage yellow\" title=\"移動平均\">移動平均</span>, <span>13</span>, <span class=\"icoBolinger aqua\" title=\"ボリンジャーバンド\">ボリンジャーバンド</span>, <span>5</span>, <span class=\"icoBolinger blue\" title=\"ボリンジャーバンド\">ボリンジャーバンド</span>, <span>8</span>, <span>コラム</span>, <span>コラム</span>, <span>コラム</span>, <span class=\"icoUsa18\"></span>, <span class=\"icoRating3\"> </span>, <span class=\"icoUsa18\"></span>, <span class=\"icoRating3\"> </span>, <span class=\"icoUsa18\"></span>, <span class=\"icoRating3\"> </span>, <span class=\"icoJpn18\"></span>, <span class=\"icoRating1\"> </span>, <span class=\"icoSui18\"></span>, <span class=\"icoRating1\"> </span>, <span class=\"icoUsa18\"></span>, <span class=\"icoJpn18\"></span>, <span class=\"currency\">通貨ペア</span>, <span class=\"bid0\">Bid</span>, <span class=\"ask0\">Ask</span>, <span id=\"USDJPY_bid\"></span>, <span id=\"USDJPY_ask\"></span>, <span id=\"EURJPY_bid\"></span>, <span id=\"EURJPY_ask\"></span>, <span id=\"AUDJPY_bid\"></span>, <span id=\"AUDJPY_ask\"></span>, <span id=\"GBPJPY_bid\"></span>, <span id=\"GBPJPY_ask\"></span>, <span id=\"NZDJPY_bid\"></span>, <span id=\"NZDJPY_ask\"></span>, <span id=\"CADJPY_bid\"></span>, <span id=\"CADJPY_ask\"></span>, <span id=\"CHFJPY_bid\"></span>, <span id=\"CHFJPY_ask\"></span>, <span id=\"ZARJPY_bid\"></span>, <span id=\"ZARJPY_ask\"></span>, <span id=\"CNHJPY_bid\"></span>, <span id=\"CNHJPY_ask\"></span>, <span id=\"EURUSD_bid\"></span>, <span id=\"EURUSD_ask\"></span>, <span id=\"GBPUSD_bid\"></span>, <span id=\"GBPUSD_ask\"></span>, <span id=\"AUDUSD_bid\"></span>, <span id=\"AUDUSD_ask\"></span>, <span class=\"icon\"></span>, <span class=\"text\">エラーが起きました。</span>, <span class=\"icon\"></span>, <span class=\"text\">投稿が完了しました。</span>, <span class=\"title\">タイトル</span>, <span class=\"limit\" id=\"title_length\">40</span>, <span class=\"title\">本文</span>, <span class=\"limit\" id=\"comment_length\">2000</span>, <span> </span>, <span>おすすめコンテンツ</span>, <span class=\"yj-guid\"><img alt=\"本文はここまでです\" height=\"1\" src=\"https://s.yimg.jp/images/clear.gif\" width=\"1\"/></span>, <span class=\"yj-skip\">\n",
      "<a href=\"#pagetop\"><img alt=\"このページの先頭へ\" height=\"1\" src=\"https://s.yimg.jp/images/clear.gif\" width=\"1\"/></a></span>]\n"
     ]
    }
   ],
   "source": [
    "span = soup.find_all(\"span\")\n",
    "print(span)"
   ]
  },
  {
   "cell_type": "code",
   "execution_count": 13,
   "metadata": {},
   "outputs": [
    {
     "name": "stdout",
     "output_type": "stream",
     "text": [
      "test\n",
      "test\n",
      "test\n",
      "bad\n",
      "bad\n",
      "test\n",
      "test\n",
      "test\n",
      "test\n",
      "test\n",
      "test\n",
      "test\n",
      "test\n",
      "test\n",
      "test\n",
      "test\n",
      "test\n",
      "test\n",
      "test\n",
      "bad\n",
      "test\n",
      "bad\n",
      "test\n",
      "bad\n",
      "test\n",
      "bad\n",
      "test\n",
      "bad\n",
      "bad\n",
      "bad\n",
      "bad\n",
      "test\n",
      "test\n",
      "test\n",
      "test\n",
      "test\n",
      "test\n",
      "test\n",
      "test\n",
      "test\n",
      "test\n",
      "test\n",
      "test\n",
      "test\n",
      "test\n",
      "test\n",
      "bad\n",
      "bad\n",
      "bad\n",
      "bad\n",
      "bad\n",
      "bad\n",
      "bad\n",
      "bad\n",
      "bad\n",
      "bad\n",
      "bad\n",
      "bad\n",
      "bad\n",
      "bad\n",
      "bad\n",
      "bad\n",
      "bad\n",
      "bad\n",
      "bad\n",
      "bad\n",
      "bad\n",
      "bad\n",
      "bad\n",
      "bad\n",
      "test\n",
      "test\n",
      "test\n",
      "test\n",
      "test\n",
      "test\n",
      "test\n",
      "test\n",
      "bad\n",
      "bad\n",
      "test\n",
      "test\n"
     ]
    }
   ],
   "source": [
    "for tag in span:\n",
    "    try:\n",
    "        string_ = tag.get(\"class\").pop(0)\n",
    "        print(\"test\")\n",
    "        if string_ in \"USDJPY_bid\":\n",
    "            usdjpy = tag.string\n",
    "            print(\"米ドル/円: \", usdjpy)\n",
    "        elif string_ in \"EURJPY_bid\":\n",
    "            eurjpy = tag.string\n",
    "            print(\"ユーロ/円: \", eurjpy)\n",
    "        elif string_ in \"AUDJPY_bid\":\n",
    "            audjpy = tag.string\n",
    "            print(\"豪ドル/円: \", audjpy)\n",
    "        elif string_ in \"GBPJPY_bid\":\n",
    "            gbpjpy = tag.string\n",
    "            print(\"英ポンド/円: \", gbpjpy)\n",
    "            break\n",
    "    except:\n",
    "        print(\"bad\")\n",
    "        pass"
   ]
  }
 ],
 "metadata": {
  "kernelspec": {
   "display_name": "Python 3",
   "language": "python",
   "name": "python3"
  },
  "language_info": {
   "codemirror_mode": {
    "name": "ipython",
    "version": 3
   },
   "file_extension": ".py",
   "mimetype": "text/x-python",
   "name": "python",
   "nbconvert_exporter": "python",
   "pygments_lexer": "ipython3",
   "version": "3.6.5"
  }
 },
 "nbformat": 4,
 "nbformat_minor": 2
}
