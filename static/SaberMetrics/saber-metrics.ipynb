{
 "cells": [
  {
   "cell_type": "markdown",
   "metadata": {},
   "source": [
    "# プロ野球データによるセイバーメトリクス\n",
    "## 1. 事前に\n",
    "### 1.1. データのダウンロード\n",
    "- プロ野球データFreak(http://baseball-data.com/) から、2015年における全球団んの打撃成績および2016年における野手の年俸上位100選手のデータを使用。\n",
    "- 実際はデータサイエンティスト養成読本のサポートサイト(http://gihyo.jp/book/2017/978-4-7741-8877-5/support) より各csvファイルをダウンロードして使用。\n",
    "\n",
    "### 1.2. モジュールのダウンロード"
   ]
  },
  {
   "cell_type": "code",
   "execution_count": 75,
   "metadata": {},
   "outputs": [],
   "source": [
    "# Calculate\n",
    "import numpy as np\n",
    "import pandas as pd\n",
    "import scipy as sp\n",
    "import scipy.stats as st\n",
    "# Static model\n",
    "import statsmodels.formula.api as smf\n",
    "# Graph\n",
    "import matplotlib.pyplot as plt\n",
    "import seaborn as sns\n",
    "# Set graph font and style.\n",
    "plt.rcParams['font.family'] = 'IPAexGothic'\n",
    "plt.style.use('ggplot')\n",
    "%matplotlib inline"
   ]
  },
  {
   "cell_type": "markdown",
   "metadata": {},
   "source": [
    "## 2. クロス集計で比較\n",
    "### 2.1. 使用するデータについて\n",
    "- batterに打撃成績データを、nenpoに年俸データを読み込む。\n",
    "- 基本的なデータの保存形式はこのように、整理データでかつ縦持ちデータであることが適切。\n",
    "- 縦持ちデータで前処理を進めて、可視化やクロス集計を行う際に横持ちデータにするのが効率的。"
   ]
  },
  {
   "cell_type": "code",
   "execution_count": 3,
   "metadata": {},
   "outputs": [
    {
     "data": {
      "text/html": [
       "<div>\n",
       "<style scoped>\n",
       "    .dataframe tbody tr th:only-of-type {\n",
       "        vertical-align: middle;\n",
       "    }\n",
       "\n",
       "    .dataframe tbody tr th {\n",
       "        vertical-align: top;\n",
       "    }\n",
       "\n",
       "    .dataframe thead th {\n",
       "        text-align: right;\n",
       "    }\n",
       "</style>\n",
       "<table border=\"1\" class=\"dataframe\">\n",
       "  <thead>\n",
       "    <tr style=\"text-align: right;\">\n",
       "      <th></th>\n",
       "      <th>Name</th>\n",
       "      <th>League</th>\n",
       "      <th>Team_15</th>\n",
       "      <th>AVG</th>\n",
       "      <th>AB</th>\n",
       "      <th>H</th>\n",
       "      <th>HR</th>\n",
       "      <th>RBI</th>\n",
       "      <th>SLG</th>\n",
       "      <th>OBP</th>\n",
       "      <th>OPS</th>\n",
       "      <th>RC</th>\n",
       "      <th>RC27</th>\n",
       "      <th>XR</th>\n",
       "      <th>XR27</th>\n",
       "    </tr>\n",
       "  </thead>\n",
       "  <tbody>\n",
       "    <tr>\n",
       "      <th>0</th>\n",
       "      <td>山田　哲人</td>\n",
       "      <td>セ</td>\n",
       "      <td>ヤクルト</td>\n",
       "      <td>0.329</td>\n",
       "      <td>557</td>\n",
       "      <td>183</td>\n",
       "      <td>38</td>\n",
       "      <td>100</td>\n",
       "      <td>0.610</td>\n",
       "      <td>0.416</td>\n",
       "      <td>1.027</td>\n",
       "      <td>138.74</td>\n",
       "      <td>9.56</td>\n",
       "      <td>133.36</td>\n",
       "      <td>9.19</td>\n",
       "    </tr>\n",
       "    <tr>\n",
       "      <th>1</th>\n",
       "      <td>川端　慎吾</td>\n",
       "      <td>セ</td>\n",
       "      <td>ヤクルト</td>\n",
       "      <td>0.336</td>\n",
       "      <td>581</td>\n",
       "      <td>195</td>\n",
       "      <td>8</td>\n",
       "      <td>57</td>\n",
       "      <td>0.439</td>\n",
       "      <td>0.383</td>\n",
       "      <td>0.822</td>\n",
       "      <td>93.68</td>\n",
       "      <td>6.20</td>\n",
       "      <td>88.39</td>\n",
       "      <td>5.85</td>\n",
       "    </tr>\n",
       "    <tr>\n",
       "      <th>2</th>\n",
       "      <td>雄平</td>\n",
       "      <td>セ</td>\n",
       "      <td>ヤクルト</td>\n",
       "      <td>0.270</td>\n",
       "      <td>551</td>\n",
       "      <td>149</td>\n",
       "      <td>8</td>\n",
       "      <td>60</td>\n",
       "      <td>0.388</td>\n",
       "      <td>0.307</td>\n",
       "      <td>0.695</td>\n",
       "      <td>64.96</td>\n",
       "      <td>4.21</td>\n",
       "      <td>63.25</td>\n",
       "      <td>4.10</td>\n",
       "    </tr>\n",
       "    <tr>\n",
       "      <th>3</th>\n",
       "      <td>畠山　和洋</td>\n",
       "      <td>セ</td>\n",
       "      <td>ヤクルト</td>\n",
       "      <td>0.268</td>\n",
       "      <td>512</td>\n",
       "      <td>137</td>\n",
       "      <td>26</td>\n",
       "      <td>105</td>\n",
       "      <td>0.471</td>\n",
       "      <td>0.344</td>\n",
       "      <td>0.815</td>\n",
       "      <td>83.78</td>\n",
       "      <td>5.76</td>\n",
       "      <td>85.19</td>\n",
       "      <td>5.85</td>\n",
       "    </tr>\n",
       "    <tr>\n",
       "      <th>4</th>\n",
       "      <td>中村　悠平</td>\n",
       "      <td>セ</td>\n",
       "      <td>ヤクルト</td>\n",
       "      <td>0.231</td>\n",
       "      <td>442</td>\n",
       "      <td>102</td>\n",
       "      <td>2</td>\n",
       "      <td>33</td>\n",
       "      <td>0.276</td>\n",
       "      <td>0.299</td>\n",
       "      <td>0.575</td>\n",
       "      <td>36.74</td>\n",
       "      <td>2.70</td>\n",
       "      <td>37.46</td>\n",
       "      <td>2.76</td>\n",
       "    </tr>\n",
       "  </tbody>\n",
       "</table>\n",
       "</div>"
      ],
      "text/plain": [
       "    Name League Team_15    AVG   AB    H  HR  RBI    SLG    OBP    OPS  \\\n",
       "0  山田　哲人      セ    ヤクルト  0.329  557  183  38  100  0.610  0.416  1.027   \n",
       "1  川端　慎吾      セ    ヤクルト  0.336  581  195   8   57  0.439  0.383  0.822   \n",
       "2     雄平      セ    ヤクルト  0.270  551  149   8   60  0.388  0.307  0.695   \n",
       "3  畠山　和洋      セ    ヤクルト  0.268  512  137  26  105  0.471  0.344  0.815   \n",
       "4  中村　悠平      セ    ヤクルト  0.231  442  102   2   33  0.276  0.299  0.575   \n",
       "\n",
       "       RC  RC27      XR  XR27  \n",
       "0  138.74  9.56  133.36  9.19  \n",
       "1   93.68  6.20   88.39  5.85  \n",
       "2   64.96  4.21   63.25  4.10  \n",
       "3   83.78  5.76   85.19  5.85  \n",
       "4   36.74  2.70   37.46  2.76  "
      ]
     },
     "execution_count": 3,
     "metadata": {},
     "output_type": "execute_result"
    }
   ],
   "source": [
    "batter = pd.read_csv('batting-record.csv', encoding='shift-jis')\n",
    "batter.head()"
   ]
  },
  {
   "cell_type": "code",
   "execution_count": 4,
   "metadata": {},
   "outputs": [
    {
     "data": {
      "text/html": [
       "<div>\n",
       "<style scoped>\n",
       "    .dataframe tbody tr th:only-of-type {\n",
       "        vertical-align: middle;\n",
       "    }\n",
       "\n",
       "    .dataframe tbody tr th {\n",
       "        vertical-align: top;\n",
       "    }\n",
       "\n",
       "    .dataframe thead th {\n",
       "        text-align: right;\n",
       "    }\n",
       "</style>\n",
       "<table border=\"1\" class=\"dataframe\">\n",
       "  <thead>\n",
       "    <tr style=\"text-align: right;\">\n",
       "      <th></th>\n",
       "      <th>Name</th>\n",
       "      <th>Team_16</th>\n",
       "      <th>Salary</th>\n",
       "      <th>Position</th>\n",
       "      <th>Age</th>\n",
       "      <th>Height</th>\n",
       "      <th>Weight</th>\n",
       "    </tr>\n",
       "  </thead>\n",
       "  <tbody>\n",
       "    <tr>\n",
       "      <th>0</th>\n",
       "      <td>中村　剛也</td>\n",
       "      <td>西武</td>\n",
       "      <td>41000</td>\n",
       "      <td>内野手</td>\n",
       "      <td>32</td>\n",
       "      <td>175</td>\n",
       "      <td>102</td>\n",
       "    </tr>\n",
       "    <tr>\n",
       "      <th>1</th>\n",
       "      <td>鳥谷　敬</td>\n",
       "      <td>阪神</td>\n",
       "      <td>40000</td>\n",
       "      <td>内野手</td>\n",
       "      <td>35</td>\n",
       "      <td>180</td>\n",
       "      <td>79</td>\n",
       "    </tr>\n",
       "    <tr>\n",
       "      <th>2</th>\n",
       "      <td>バレンティン</td>\n",
       "      <td>ヤクルト</td>\n",
       "      <td>36000</td>\n",
       "      <td>外野手</td>\n",
       "      <td>32</td>\n",
       "      <td>185</td>\n",
       "      <td>100</td>\n",
       "    </tr>\n",
       "    <tr>\n",
       "      <th>3</th>\n",
       "      <td>中島　宏之</td>\n",
       "      <td>オリックス</td>\n",
       "      <td>35000</td>\n",
       "      <td>内野手</td>\n",
       "      <td>33</td>\n",
       "      <td>180</td>\n",
       "      <td>90</td>\n",
       "    </tr>\n",
       "    <tr>\n",
       "      <th>4</th>\n",
       "      <td>内川　聖一</td>\n",
       "      <td>ソフトバンク</td>\n",
       "      <td>33000</td>\n",
       "      <td>外野手</td>\n",
       "      <td>33</td>\n",
       "      <td>185</td>\n",
       "      <td>93</td>\n",
       "    </tr>\n",
       "  </tbody>\n",
       "</table>\n",
       "</div>"
      ],
      "text/plain": [
       "     Name Team_16  Salary Position  Age  Height  Weight\n",
       "0   中村　剛也      西武   41000      内野手   32     175     102\n",
       "1    鳥谷　敬      阪神   40000      内野手   35     180      79\n",
       "2  バレンティン    ヤクルト   36000      外野手   32     185     100\n",
       "3   中島　宏之   オリックス   35000      内野手   33     180      90\n",
       "4   内川　聖一  ソフトバンク   33000      外野手   33     185      93"
      ]
     },
     "execution_count": 4,
     "metadata": {},
     "output_type": "execute_result"
    }
   ],
   "source": [
    "nenpo = pd.read_csv('annual-salary.csv', encoding='shift-jis')\n",
    "nenpo.head()"
   ]
  },
  {
   "cell_type": "markdown",
   "metadata": {},
   "source": [
    "### 2.2. データの結合\n",
    "- 打撃成績と年俸のデータを内部統合し、年俸上位100人に含まれる打者のデータに絞る。"
   ]
  },
  {
   "cell_type": "code",
   "execution_count": 5,
   "metadata": {},
   "outputs": [
    {
     "data": {
      "text/html": [
       "<div>\n",
       "<style scoped>\n",
       "    .dataframe tbody tr th:only-of-type {\n",
       "        vertical-align: middle;\n",
       "    }\n",
       "\n",
       "    .dataframe tbody tr th {\n",
       "        vertical-align: top;\n",
       "    }\n",
       "\n",
       "    .dataframe thead th {\n",
       "        text-align: right;\n",
       "    }\n",
       "</style>\n",
       "<table border=\"1\" class=\"dataframe\">\n",
       "  <thead>\n",
       "    <tr style=\"text-align: right;\">\n",
       "      <th></th>\n",
       "      <th>Name</th>\n",
       "      <th>League</th>\n",
       "      <th>Team_15</th>\n",
       "      <th>AVG</th>\n",
       "      <th>AB</th>\n",
       "      <th>H</th>\n",
       "      <th>HR</th>\n",
       "      <th>RBI</th>\n",
       "      <th>SLG</th>\n",
       "      <th>OBP</th>\n",
       "      <th>...</th>\n",
       "      <th>RC</th>\n",
       "      <th>RC27</th>\n",
       "      <th>XR</th>\n",
       "      <th>XR27</th>\n",
       "      <th>Team_16</th>\n",
       "      <th>Salary</th>\n",
       "      <th>Position</th>\n",
       "      <th>Age</th>\n",
       "      <th>Height</th>\n",
       "      <th>Weight</th>\n",
       "    </tr>\n",
       "  </thead>\n",
       "  <tbody>\n",
       "    <tr>\n",
       "      <th>0</th>\n",
       "      <td>山田　哲人</td>\n",
       "      <td>セ</td>\n",
       "      <td>ヤクルト</td>\n",
       "      <td>0.329</td>\n",
       "      <td>557</td>\n",
       "      <td>183</td>\n",
       "      <td>38</td>\n",
       "      <td>100</td>\n",
       "      <td>0.610</td>\n",
       "      <td>0.416</td>\n",
       "      <td>...</td>\n",
       "      <td>138.74</td>\n",
       "      <td>9.56</td>\n",
       "      <td>133.36</td>\n",
       "      <td>9.19</td>\n",
       "      <td>ヤクルト</td>\n",
       "      <td>22000</td>\n",
       "      <td>内野手</td>\n",
       "      <td>24</td>\n",
       "      <td>180</td>\n",
       "      <td>76</td>\n",
       "    </tr>\n",
       "    <tr>\n",
       "      <th>1</th>\n",
       "      <td>川端　慎吾</td>\n",
       "      <td>セ</td>\n",
       "      <td>ヤクルト</td>\n",
       "      <td>0.336</td>\n",
       "      <td>581</td>\n",
       "      <td>195</td>\n",
       "      <td>8</td>\n",
       "      <td>57</td>\n",
       "      <td>0.439</td>\n",
       "      <td>0.383</td>\n",
       "      <td>...</td>\n",
       "      <td>93.68</td>\n",
       "      <td>6.20</td>\n",
       "      <td>88.39</td>\n",
       "      <td>5.85</td>\n",
       "      <td>ヤクルト</td>\n",
       "      <td>16000</td>\n",
       "      <td>内野手</td>\n",
       "      <td>28</td>\n",
       "      <td>185</td>\n",
       "      <td>86</td>\n",
       "    </tr>\n",
       "    <tr>\n",
       "      <th>2</th>\n",
       "      <td>雄平</td>\n",
       "      <td>セ</td>\n",
       "      <td>ヤクルト</td>\n",
       "      <td>0.270</td>\n",
       "      <td>551</td>\n",
       "      <td>149</td>\n",
       "      <td>8</td>\n",
       "      <td>60</td>\n",
       "      <td>0.388</td>\n",
       "      <td>0.307</td>\n",
       "      <td>...</td>\n",
       "      <td>64.96</td>\n",
       "      <td>4.21</td>\n",
       "      <td>63.25</td>\n",
       "      <td>4.10</td>\n",
       "      <td>ヤクルト</td>\n",
       "      <td>6500</td>\n",
       "      <td>外野手</td>\n",
       "      <td>32</td>\n",
       "      <td>174</td>\n",
       "      <td>83</td>\n",
       "    </tr>\n",
       "    <tr>\n",
       "      <th>3</th>\n",
       "      <td>畠山　和洋</td>\n",
       "      <td>セ</td>\n",
       "      <td>ヤクルト</td>\n",
       "      <td>0.268</td>\n",
       "      <td>512</td>\n",
       "      <td>137</td>\n",
       "      <td>26</td>\n",
       "      <td>105</td>\n",
       "      <td>0.471</td>\n",
       "      <td>0.344</td>\n",
       "      <td>...</td>\n",
       "      <td>83.78</td>\n",
       "      <td>5.76</td>\n",
       "      <td>85.19</td>\n",
       "      <td>5.85</td>\n",
       "      <td>ヤクルト</td>\n",
       "      <td>13000</td>\n",
       "      <td>内野手</td>\n",
       "      <td>33</td>\n",
       "      <td>180</td>\n",
       "      <td>96</td>\n",
       "    </tr>\n",
       "    <tr>\n",
       "      <th>4</th>\n",
       "      <td>中村　悠平</td>\n",
       "      <td>セ</td>\n",
       "      <td>ヤクルト</td>\n",
       "      <td>0.231</td>\n",
       "      <td>442</td>\n",
       "      <td>102</td>\n",
       "      <td>2</td>\n",
       "      <td>33</td>\n",
       "      <td>0.276</td>\n",
       "      <td>0.299</td>\n",
       "      <td>...</td>\n",
       "      <td>36.74</td>\n",
       "      <td>2.70</td>\n",
       "      <td>37.46</td>\n",
       "      <td>2.76</td>\n",
       "      <td>ヤクルト</td>\n",
       "      <td>6700</td>\n",
       "      <td>捕手</td>\n",
       "      <td>26</td>\n",
       "      <td>176</td>\n",
       "      <td>83</td>\n",
       "    </tr>\n",
       "  </tbody>\n",
       "</table>\n",
       "<p>5 rows × 21 columns</p>\n",
       "</div>"
      ],
      "text/plain": [
       "    Name League Team_15    AVG   AB    H  HR  RBI    SLG    OBP   ...    \\\n",
       "0  山田　哲人      セ    ヤクルト  0.329  557  183  38  100  0.610  0.416   ...     \n",
       "1  川端　慎吾      セ    ヤクルト  0.336  581  195   8   57  0.439  0.383   ...     \n",
       "2     雄平      セ    ヤクルト  0.270  551  149   8   60  0.388  0.307   ...     \n",
       "3  畠山　和洋      セ    ヤクルト  0.268  512  137  26  105  0.471  0.344   ...     \n",
       "4  中村　悠平      セ    ヤクルト  0.231  442  102   2   33  0.276  0.299   ...     \n",
       "\n",
       "       RC  RC27      XR  XR27  Team_16 Salary  Position Age  Height  Weight  \n",
       "0  138.74  9.56  133.36  9.19     ヤクルト  22000       内野手  24     180      76  \n",
       "1   93.68  6.20   88.39  5.85     ヤクルト  16000       内野手  28     185      86  \n",
       "2   64.96  4.21   63.25  4.10     ヤクルト   6500       外野手  32     174      83  \n",
       "3   83.78  5.76   85.19  5.85     ヤクルト  13000       内野手  33     180      96  \n",
       "4   36.74  2.70   37.46  2.76     ヤクルト   6700        捕手  26     176      83  \n",
       "\n",
       "[5 rows x 21 columns]"
      ]
     },
     "execution_count": 5,
     "metadata": {},
     "output_type": "execute_result"
    }
   ],
   "source": [
    "# Merge data and filter the batter who the salary is in top 100.\n",
    "data = pd.merge(batter, nenpo, on='Name', how='inner')\n",
    "data.head()"
   ]
  },
  {
   "cell_type": "markdown",
   "metadata": {},
   "source": [
    "- チームごとの合計年俸を数値で示す。"
   ]
  },
  {
   "cell_type": "code",
   "execution_count": 6,
   "metadata": {},
   "outputs": [
    {
     "data": {
      "text/html": [
       "<div>\n",
       "<style scoped>\n",
       "    .dataframe tbody tr th:only-of-type {\n",
       "        vertical-align: middle;\n",
       "    }\n",
       "\n",
       "    .dataframe tbody tr th {\n",
       "        vertical-align: top;\n",
       "    }\n",
       "\n",
       "    .dataframe thead th {\n",
       "        text-align: right;\n",
       "    }\n",
       "</style>\n",
       "<table border=\"1\" class=\"dataframe\">\n",
       "  <thead>\n",
       "    <tr style=\"text-align: right;\">\n",
       "      <th></th>\n",
       "      <th>Team_16</th>\n",
       "      <th>Salary</th>\n",
       "    </tr>\n",
       "  </thead>\n",
       "  <tbody>\n",
       "    <tr>\n",
       "      <th>0</th>\n",
       "      <td>巨人</td>\n",
       "      <td>150600</td>\n",
       "    </tr>\n",
       "    <tr>\n",
       "      <th>1</th>\n",
       "      <td>西武</td>\n",
       "      <td>111000</td>\n",
       "    </tr>\n",
       "    <tr>\n",
       "      <th>2</th>\n",
       "      <td>ソフトバンク</td>\n",
       "      <td>110000</td>\n",
       "    </tr>\n",
       "    <tr>\n",
       "      <th>3</th>\n",
       "      <td>阪神</td>\n",
       "      <td>85300</td>\n",
       "    </tr>\n",
       "    <tr>\n",
       "      <th>4</th>\n",
       "      <td>日本ハム</td>\n",
       "      <td>84500</td>\n",
       "    </tr>\n",
       "  </tbody>\n",
       "</table>\n",
       "</div>"
      ],
      "text/plain": [
       "  Team_16  Salary\n",
       "0      巨人  150600\n",
       "1      西武  111000\n",
       "2  ソフトバンク  110000\n",
       "3      阪神   85300\n",
       "4    日本ハム   84500"
      ]
     },
     "execution_count": 6,
     "metadata": {},
     "output_type": "execute_result"
    }
   ],
   "source": [
    "# Calculate the sum of estimated annual salary per team.\n",
    "res = data.groupby('Team_16', as_index=False)['Salary'].sum()\n",
    "# Arrange in descending order by Salary.\n",
    "res = res.sort_values(by=['Salary'], ascending=False).reset_index(drop=True)\n",
    "res.head()"
   ]
  },
  {
   "cell_type": "markdown",
   "metadata": {},
   "source": [
    "- チームごとの合計年俸を比率で示す。"
   ]
  },
  {
   "cell_type": "code",
   "execution_count": 7,
   "metadata": {},
   "outputs": [
    {
     "data": {
      "text/html": [
       "<div>\n",
       "<style scoped>\n",
       "    .dataframe tbody tr th:only-of-type {\n",
       "        vertical-align: middle;\n",
       "    }\n",
       "\n",
       "    .dataframe tbody tr th {\n",
       "        vertical-align: top;\n",
       "    }\n",
       "\n",
       "    .dataframe thead th {\n",
       "        text-align: right;\n",
       "    }\n",
       "</style>\n",
       "<table border=\"1\" class=\"dataframe\">\n",
       "  <thead>\n",
       "    <tr style=\"text-align: right;\">\n",
       "      <th></th>\n",
       "      <th>Team_16</th>\n",
       "      <th>Salary_per</th>\n",
       "      <th>Salary_per_cumsum</th>\n",
       "    </tr>\n",
       "  </thead>\n",
       "  <tbody>\n",
       "    <tr>\n",
       "      <th>0</th>\n",
       "      <td>巨人</td>\n",
       "      <td>15.762371</td>\n",
       "      <td>15.762371</td>\n",
       "    </tr>\n",
       "    <tr>\n",
       "      <th>1</th>\n",
       "      <td>西武</td>\n",
       "      <td>11.617684</td>\n",
       "      <td>27.380055</td>\n",
       "    </tr>\n",
       "    <tr>\n",
       "      <th>2</th>\n",
       "      <td>ソフトバンク</td>\n",
       "      <td>11.513020</td>\n",
       "      <td>38.893075</td>\n",
       "    </tr>\n",
       "    <tr>\n",
       "      <th>3</th>\n",
       "      <td>阪神</td>\n",
       "      <td>8.927824</td>\n",
       "      <td>47.820899</td>\n",
       "    </tr>\n",
       "    <tr>\n",
       "      <th>4</th>\n",
       "      <td>日本ハム</td>\n",
       "      <td>8.844093</td>\n",
       "      <td>56.664992</td>\n",
       "    </tr>\n",
       "  </tbody>\n",
       "</table>\n",
       "</div>"
      ],
      "text/plain": [
       "  Team_16  Salary_per  Salary_per_cumsum\n",
       "0      巨人   15.762371          15.762371\n",
       "1      西武   11.617684          27.380055\n",
       "2  ソフトバンク   11.513020          38.893075\n",
       "3      阪神    8.927824          47.820899\n",
       "4    日本ハム    8.844093          56.664992"
      ]
     },
     "execution_count": 7,
     "metadata": {},
     "output_type": "execute_result"
    }
   ],
   "source": [
    "data['Salary_per'] = data['Salary'] / data['Salary'].sum() * 100\n",
    "res2 = data.groupby('Team_16', as_index=False)['Salary_per'].sum()\n",
    "res2 = res2.sort_values(by=['Salary_per'], ascending=False).reset_index(drop=True)\n",
    "res2['Salary_per_cumsum'] = res2['Salary_per'].cumsum()\n",
    "res2.head()"
   ]
  },
  {
   "cell_type": "markdown",
   "metadata": {},
   "source": [
    "- チーム、守備位置ごとの人数の数値をクロス集計で示す。"
   ]
  },
  {
   "cell_type": "code",
   "execution_count": 8,
   "metadata": {},
   "outputs": [
    {
     "data": {
      "text/html": [
       "<div>\n",
       "<style scoped>\n",
       "    .dataframe tbody tr th:only-of-type {\n",
       "        vertical-align: middle;\n",
       "    }\n",
       "\n",
       "    .dataframe tbody tr th {\n",
       "        vertical-align: top;\n",
       "    }\n",
       "\n",
       "    .dataframe thead th {\n",
       "        text-align: right;\n",
       "    }\n",
       "</style>\n",
       "<table border=\"1\" class=\"dataframe\">\n",
       "  <thead>\n",
       "    <tr style=\"text-align: right;\">\n",
       "      <th>Position</th>\n",
       "      <th>内野手</th>\n",
       "      <th>外野手</th>\n",
       "      <th>捕手</th>\n",
       "    </tr>\n",
       "    <tr>\n",
       "      <th>Team_16</th>\n",
       "      <th></th>\n",
       "      <th></th>\n",
       "      <th></th>\n",
       "    </tr>\n",
       "  </thead>\n",
       "  <tbody>\n",
       "    <tr>\n",
       "      <th>DeNA</th>\n",
       "      <td>2</td>\n",
       "      <td>2</td>\n",
       "      <td>0</td>\n",
       "    </tr>\n",
       "    <tr>\n",
       "      <th>オリックス</th>\n",
       "      <td>1</td>\n",
       "      <td>2</td>\n",
       "      <td>1</td>\n",
       "    </tr>\n",
       "    <tr>\n",
       "      <th>ソフトバンク</th>\n",
       "      <td>3</td>\n",
       "      <td>3</td>\n",
       "      <td>0</td>\n",
       "    </tr>\n",
       "    <tr>\n",
       "      <th>ヤクルト</th>\n",
       "      <td>4</td>\n",
       "      <td>1</td>\n",
       "      <td>1</td>\n",
       "    </tr>\n",
       "    <tr>\n",
       "      <th>ロッテ</th>\n",
       "      <td>2</td>\n",
       "      <td>3</td>\n",
       "      <td>0</td>\n",
       "    </tr>\n",
       "  </tbody>\n",
       "</table>\n",
       "</div>"
      ],
      "text/plain": [
       "Position  内野手  外野手  捕手\n",
       "Team_16               \n",
       "DeNA        2    2   0\n",
       "オリックス       1    2   1\n",
       "ソフトバンク      3    3   0\n",
       "ヤクルト        4    1   1\n",
       "ロッテ         2    3   0"
      ]
     },
     "execution_count": 8,
     "metadata": {},
     "output_type": "execute_result"
    }
   ],
   "source": [
    "table = pd.pivot_table(\n",
    "    data = data,\n",
    "    values = 'Age',\n",
    "    aggfunc = 'count',\n",
    "    index = 'Team_16',\n",
    "    columns = 'Position',\n",
    "    fill_value = 0)\n",
    "table.head()"
   ]
  },
  {
   "cell_type": "markdown",
   "metadata": {},
   "source": [
    "-  チーム、守備位置ごとの人数の比率をクロス集計で表す。"
   ]
  },
  {
   "cell_type": "code",
   "execution_count": 9,
   "metadata": {},
   "outputs": [
    {
     "data": {
      "text/html": [
       "<div>\n",
       "<style scoped>\n",
       "    .dataframe tbody tr th:only-of-type {\n",
       "        vertical-align: middle;\n",
       "    }\n",
       "\n",
       "    .dataframe tbody tr th {\n",
       "        vertical-align: top;\n",
       "    }\n",
       "\n",
       "    .dataframe thead th {\n",
       "        text-align: right;\n",
       "    }\n",
       "</style>\n",
       "<table border=\"1\" class=\"dataframe\">\n",
       "  <thead>\n",
       "    <tr style=\"text-align: right;\">\n",
       "      <th>Position</th>\n",
       "      <th>内野手</th>\n",
       "      <th>外野手</th>\n",
       "      <th>捕手</th>\n",
       "      <th>All</th>\n",
       "    </tr>\n",
       "    <tr>\n",
       "      <th>Team_16</th>\n",
       "      <th></th>\n",
       "      <th></th>\n",
       "      <th></th>\n",
       "      <th></th>\n",
       "    </tr>\n",
       "  </thead>\n",
       "  <tbody>\n",
       "    <tr>\n",
       "      <th>DeNA</th>\n",
       "      <td>0.166667</td>\n",
       "      <td>0.166667</td>\n",
       "      <td>0.000000</td>\n",
       "      <td>0.333333</td>\n",
       "    </tr>\n",
       "    <tr>\n",
       "      <th>オリックス</th>\n",
       "      <td>0.083333</td>\n",
       "      <td>0.166667</td>\n",
       "      <td>0.083333</td>\n",
       "      <td>0.333333</td>\n",
       "    </tr>\n",
       "    <tr>\n",
       "      <th>ソフトバンク</th>\n",
       "      <td>0.250000</td>\n",
       "      <td>0.250000</td>\n",
       "      <td>0.000000</td>\n",
       "      <td>0.500000</td>\n",
       "    </tr>\n",
       "    <tr>\n",
       "      <th>ヤクルト</th>\n",
       "      <td>0.333333</td>\n",
       "      <td>0.083333</td>\n",
       "      <td>0.083333</td>\n",
       "      <td>0.500000</td>\n",
       "    </tr>\n",
       "    <tr>\n",
       "      <th>ロッテ</th>\n",
       "      <td>0.166667</td>\n",
       "      <td>0.250000</td>\n",
       "      <td>0.000000</td>\n",
       "      <td>0.416667</td>\n",
       "    </tr>\n",
       "  </tbody>\n",
       "</table>\n",
       "</div>"
      ],
      "text/plain": [
       "Position       内野手       外野手        捕手       All\n",
       "Team_16                                         \n",
       "DeNA      0.166667  0.166667  0.000000  0.333333\n",
       "オリックス     0.083333  0.166667  0.083333  0.333333\n",
       "ソフトバンク    0.250000  0.250000  0.000000  0.500000\n",
       "ヤクルト      0.333333  0.083333  0.083333  0.500000\n",
       "ロッテ       0.166667  0.250000  0.000000  0.416667"
      ]
     },
     "execution_count": 9,
     "metadata": {},
     "output_type": "execute_result"
    }
   ],
   "source": [
    "table2 = pd.pivot_table(\n",
    "    data = data,\n",
    "    values = 'Age',\n",
    "    aggfunc = lambda x: len(x)/len(data.groupby('Team_16')['Position']),\n",
    "    index = 'Team_16',\n",
    "    columns = 'Position',\n",
    "    fill_value = 0,\n",
    "    margins = True)\n",
    "table2.head()"
   ]
  },
  {
   "cell_type": "markdown",
   "metadata": {},
   "source": [
    "## 3. グラフ作成で比較\n",
    "### 3.1. 前処理\n",
    "- 年俸上位100人に含まれる打者のデータ全体から、ヤクルトとソフトバンクだけを取り出す"
   ]
  },
  {
   "cell_type": "code",
   "execution_count": 10,
   "metadata": {},
   "outputs": [
    {
     "data": {
      "text/html": [
       "<div>\n",
       "<style scoped>\n",
       "    .dataframe tbody tr th:only-of-type {\n",
       "        vertical-align: middle;\n",
       "    }\n",
       "\n",
       "    .dataframe tbody tr th {\n",
       "        vertical-align: top;\n",
       "    }\n",
       "\n",
       "    .dataframe thead th {\n",
       "        text-align: right;\n",
       "    }\n",
       "</style>\n",
       "<table border=\"1\" class=\"dataframe\">\n",
       "  <thead>\n",
       "    <tr style=\"text-align: right;\">\n",
       "      <th></th>\n",
       "      <th>Name</th>\n",
       "      <th>League</th>\n",
       "      <th>Team_15</th>\n",
       "      <th>AVG</th>\n",
       "      <th>AB</th>\n",
       "      <th>H</th>\n",
       "      <th>HR</th>\n",
       "      <th>RBI</th>\n",
       "      <th>SLG</th>\n",
       "      <th>OBP</th>\n",
       "      <th>...</th>\n",
       "      <th>RC27</th>\n",
       "      <th>XR</th>\n",
       "      <th>XR27</th>\n",
       "      <th>Team_16</th>\n",
       "      <th>Salary</th>\n",
       "      <th>Position</th>\n",
       "      <th>Age</th>\n",
       "      <th>Height</th>\n",
       "      <th>Weight</th>\n",
       "      <th>Salary_per</th>\n",
       "    </tr>\n",
       "  </thead>\n",
       "  <tbody>\n",
       "    <tr>\n",
       "      <th>0</th>\n",
       "      <td>山田　哲人</td>\n",
       "      <td>セ</td>\n",
       "      <td>ヤクルト</td>\n",
       "      <td>0.329</td>\n",
       "      <td>557</td>\n",
       "      <td>183</td>\n",
       "      <td>38</td>\n",
       "      <td>100</td>\n",
       "      <td>0.610</td>\n",
       "      <td>0.416</td>\n",
       "      <td>...</td>\n",
       "      <td>9.56</td>\n",
       "      <td>133.36</td>\n",
       "      <td>9.19</td>\n",
       "      <td>ヤクルト</td>\n",
       "      <td>22000</td>\n",
       "      <td>内野手</td>\n",
       "      <td>24</td>\n",
       "      <td>180</td>\n",
       "      <td>76</td>\n",
       "      <td>2.302604</td>\n",
       "    </tr>\n",
       "    <tr>\n",
       "      <th>1</th>\n",
       "      <td>川端　慎吾</td>\n",
       "      <td>セ</td>\n",
       "      <td>ヤクルト</td>\n",
       "      <td>0.336</td>\n",
       "      <td>581</td>\n",
       "      <td>195</td>\n",
       "      <td>8</td>\n",
       "      <td>57</td>\n",
       "      <td>0.439</td>\n",
       "      <td>0.383</td>\n",
       "      <td>...</td>\n",
       "      <td>6.20</td>\n",
       "      <td>88.39</td>\n",
       "      <td>5.85</td>\n",
       "      <td>ヤクルト</td>\n",
       "      <td>16000</td>\n",
       "      <td>内野手</td>\n",
       "      <td>28</td>\n",
       "      <td>185</td>\n",
       "      <td>86</td>\n",
       "      <td>1.674621</td>\n",
       "    </tr>\n",
       "    <tr>\n",
       "      <th>3</th>\n",
       "      <td>畠山　和洋</td>\n",
       "      <td>セ</td>\n",
       "      <td>ヤクルト</td>\n",
       "      <td>0.268</td>\n",
       "      <td>512</td>\n",
       "      <td>137</td>\n",
       "      <td>26</td>\n",
       "      <td>105</td>\n",
       "      <td>0.471</td>\n",
       "      <td>0.344</td>\n",
       "      <td>...</td>\n",
       "      <td>5.76</td>\n",
       "      <td>85.19</td>\n",
       "      <td>5.85</td>\n",
       "      <td>ヤクルト</td>\n",
       "      <td>13000</td>\n",
       "      <td>内野手</td>\n",
       "      <td>33</td>\n",
       "      <td>180</td>\n",
       "      <td>96</td>\n",
       "      <td>1.360630</td>\n",
       "    </tr>\n",
       "    <tr>\n",
       "      <th>5</th>\n",
       "      <td>大引　啓次</td>\n",
       "      <td>セ</td>\n",
       "      <td>ヤクルト</td>\n",
       "      <td>0.225</td>\n",
       "      <td>311</td>\n",
       "      <td>70</td>\n",
       "      <td>5</td>\n",
       "      <td>41</td>\n",
       "      <td>0.338</td>\n",
       "      <td>0.287</td>\n",
       "      <td>...</td>\n",
       "      <td>3.19</td>\n",
       "      <td>30.83</td>\n",
       "      <td>3.24</td>\n",
       "      <td>ヤクルト</td>\n",
       "      <td>7000</td>\n",
       "      <td>内野手</td>\n",
       "      <td>32</td>\n",
       "      <td>178</td>\n",
       "      <td>84</td>\n",
       "      <td>0.732647</td>\n",
       "    </tr>\n",
       "    <tr>\n",
       "      <th>34</th>\n",
       "      <td>松田　宣浩</td>\n",
       "      <td>パ</td>\n",
       "      <td>ソフトバンク</td>\n",
       "      <td>0.287</td>\n",
       "      <td>533</td>\n",
       "      <td>153</td>\n",
       "      <td>35</td>\n",
       "      <td>94</td>\n",
       "      <td>0.533</td>\n",
       "      <td>0.357</td>\n",
       "      <td>...</td>\n",
       "      <td>6.14</td>\n",
       "      <td>95.76</td>\n",
       "      <td>6.23</td>\n",
       "      <td>ソフトバンク</td>\n",
       "      <td>22000</td>\n",
       "      <td>内野手</td>\n",
       "      <td>33</td>\n",
       "      <td>181</td>\n",
       "      <td>88</td>\n",
       "      <td>2.302604</td>\n",
       "    </tr>\n",
       "  </tbody>\n",
       "</table>\n",
       "<p>5 rows × 22 columns</p>\n",
       "</div>"
      ],
      "text/plain": [
       "     Name League Team_15    AVG   AB    H  HR  RBI    SLG    OBP     ...      \\\n",
       "0   山田　哲人      セ    ヤクルト  0.329  557  183  38  100  0.610  0.416     ...       \n",
       "1   川端　慎吾      セ    ヤクルト  0.336  581  195   8   57  0.439  0.383     ...       \n",
       "3   畠山　和洋      セ    ヤクルト  0.268  512  137  26  105  0.471  0.344     ...       \n",
       "5   大引　啓次      セ    ヤクルト  0.225  311   70   5   41  0.338  0.287     ...       \n",
       "34  松田　宣浩      パ  ソフトバンク  0.287  533  153  35   94  0.533  0.357     ...       \n",
       "\n",
       "    RC27      XR  XR27  Team_16  Salary Position  Age Height  Weight  \\\n",
       "0   9.56  133.36  9.19     ヤクルト   22000      内野手   24    180      76   \n",
       "1   6.20   88.39  5.85     ヤクルト   16000      内野手   28    185      86   \n",
       "3   5.76   85.19  5.85     ヤクルト   13000      内野手   33    180      96   \n",
       "5   3.19   30.83  3.24     ヤクルト    7000      内野手   32    178      84   \n",
       "34  6.14   95.76  6.23   ソフトバンク   22000      内野手   33    181      88   \n",
       "\n",
       "    Salary_per  \n",
       "0     2.302604  \n",
       "1     1.674621  \n",
       "3     1.360630  \n",
       "5     0.732647  \n",
       "34    2.302604  \n",
       "\n",
       "[5 rows x 22 columns]"
      ]
     },
     "execution_count": 10,
     "metadata": {},
     "output_type": "execute_result"
    }
   ],
   "source": [
    "YS = data.query(\"Team_16 in ('ヤクルト','ソフトバンク')\").sort_values('Position')\n",
    "YS.head()"
   ]
  },
  {
   "cell_type": "markdown",
   "metadata": {},
   "source": [
    "### 3.2. ペアプロット\n",
    "- ペアプロットにより、複数の変数(OPSと年俸、打点、身長)の相関関係を、散布図を用いて視覚的に捉える。"
   ]
  },
  {
   "cell_type": "code",
   "execution_count": 60,
   "metadata": {},
   "outputs": [
    {
     "data": {
      "image/png": "[encoded data removed]",
      "text/plain": [
       "<Figure size 806x720 with 20 Axes>"
      ]
     },
     "metadata": {},
     "output_type": "display_data"
    }
   ],
   "source": [
    "#sns.pairplot(YS.iloc[:,[0,1,2,3,4,5]], hue=\"Name\", palette='Set1')\n",
    "sns.pairplot(YS.loc[:,['Name','OPS','Salary','RBI','Height']], hue=\"Name\", palette='Set1')\n",
    "plt.show()"
   ]
  },
  {
   "cell_type": "markdown",
   "metadata": {},
   "source": [
    "- このプロットより、OPSとSalary、およびOPSとRBIの間に正の相関関係がありそうである。"
   ]
  },
  {
   "cell_type": "markdown",
   "metadata": {},
   "source": [
    "### 3.3. バープロット\n",
    "- 年俸の分布を、選手名やチームについて調べる。"
   ]
  },
  {
   "cell_type": "code",
   "execution_count": 17,
   "metadata": {},
   "outputs": [
    {
     "data": {
      "text/plain": [
       "<BarContainer object of 12 artists>"
      ]
     },
     "execution_count": 17,
     "metadata": {},
     "output_type": "execute_result"
    },
    {
     "data": {
      "image/png": "[encoded data removed]",
      "text/plain": [
       "<Figure size 432x288 with 1 Axes>"
      ]
     },
     "metadata": {},
     "output_type": "display_data"
    }
   ],
   "source": [
    "plt.barh(YS['Name'], YS['Salary'])"
   ]
  },
  {
   "cell_type": "code",
   "execution_count": 18,
   "metadata": {},
   "outputs": [
    {
     "ename": "SyntaxError",
     "evalue": "invalid syntax (<ipython-input-18-05c1d69a499d>, line 1)",
     "output_type": "error",
     "traceback": [
      "\u001b[0;36m  File \u001b[0;32m\"<ipython-input-18-05c1d69a499d>\"\u001b[0;36m, line \u001b[0;32m1\u001b[0m\n\u001b[0;31m    plt.bar(YS['Team_16'], YS['Salary'][YS['Position']='野手'])\u001b[0m\n\u001b[0m                                                      ^\u001b[0m\n\u001b[0;31mSyntaxError\u001b[0m\u001b[0;31m:\u001b[0m invalid syntax\n"
     ]
    }
   ],
   "source": [
    "plt.bar(YS['Team_16'], YS['Salary'][YS['Position']='野手'])"
   ]
  },
  {
   "cell_type": "markdown",
   "metadata": {},
   "source": [
    "### 3.4. 散布図"
   ]
  },
  {
   "cell_type": "code",
   "execution_count": 25,
   "metadata": {},
   "outputs": [
    {
     "name": "stderr",
     "output_type": "stream",
     "text": [
      "/usr/local/python/lib/python3.6/site-packages/matplotlib/axes/_axes.py:6462: UserWarning: The 'normed' kwarg is deprecated, and has been replaced by the 'density' kwarg.\n",
      "  warnings.warn(\"The 'normed' kwarg is deprecated, and has been \"\n"
     ]
    },
    {
     "data": {
      "text/plain": [
       "<seaborn.axisgrid.JointGrid at 0x6bb96bb0>"
      ]
     },
     "execution_count": 25,
     "metadata": {},
     "output_type": "execute_result"
    },
    {
     "data": {
      "image/png": "[encoded data removed]",
      "text/plain": [
       "<Figure size 432x432 with 3 Axes>"
      ]
     },
     "metadata": {},
     "output_type": "display_data"
    }
   ],
   "source": [
    "sns.jointplot(x='SLG', y='RBI', data=YS, color='b')"
   ]
  },
  {
   "cell_type": "markdown",
   "metadata": {},
   "source": [
    "## 4. 回帰分析で比較"
   ]
  },
  {
   "cell_type": "markdown",
   "metadata": {},
   "source": [
    "- OPSとRBIの相関関係を、回帰分析を行い調査する。\n",
    "$$\n",
    "OPS = 長打率 + 出塁率 \\\\\n",
    "長打率 = \\frac{単打 + 二塁打 \\times 2 + 三塁打 \\times 3 + 本塁打 \\times 4}{打数} \\\\\n",
    "出塁率 = \\frac{安打 + 四球 + 死球}{打数 + 四球 + 死球 + 犠飛}\n",
    "$$\n",
    "OPSは打者の評価指標として用いられ、単にヒットを打ったかどうかの打率ではなく、いかにアウトにならないか(出塁率)、いかに得点に近づけるか(長打率)に主眼を置いている。\n",
    "\n",
    "### 4.1. 散布図と相関係数\n",
    "- 散布図と相関係数からOPSとRBI(打点)の関係を見てみる。"
   ]
  },
  {
   "cell_type": "code",
   "execution_count": 28,
   "metadata": {},
   "outputs": [
    {
     "name": "stderr",
     "output_type": "stream",
     "text": [
      "/usr/local/python/lib/python3.6/site-packages/matplotlib/axes/_axes.py:6462: UserWarning: The 'normed' kwarg is deprecated, and has been replaced by the 'density' kwarg.\n",
      "  warnings.warn(\"The 'normed' kwarg is deprecated, and has been \"\n"
     ]
    },
    {
     "data": {
      "text/plain": [
       "<seaborn.axisgrid.JointGrid at 0x6c06ddb0>"
      ]
     },
     "execution_count": 28,
     "metadata": {},
     "output_type": "execute_result"
    },
    {
     "data": {
      "image/png": "[encoded data removed]",
      "text/plain": [
       "<Figure size 432x432 with 3 Axes>"
      ]
     },
     "metadata": {},
     "output_type": "display_data"
    }
   ],
   "source": [
    "sns.jointplot(x='OPS', y='RBI', data=batter, label='Name', color='r')"
   ]
  },
  {
   "cell_type": "markdown",
   "metadata": {},
   "source": [
    "- 散布図よりOPSが増加するにつ入れてRBIも増加しているため、制の相関があることがわかる。\n",
    "- 次に、その関係の強さを数値的に把握するために相関係数(および共分散)を求める。\n",
    "$$\n",
    "\\verb|OPSと打点の共分散:|Cov(OPS,RBI) = \\frac{1}{N-1} \\sum_{i=1}^N (OPS_i - \\mu_{OPS})(RBI_i - \\mu_{RBI}) \\\\\n",
    "\\verb|OPSと打点の相関係数:|\\rho_{OPS,RBI} = \\frac{Cov(OPS,RBI)}{\\sqrt{\\sigma_{OPS}^2 \\sigma_{RBI}^2}}\n",
    "$$"
   ]
  },
  {
   "cell_type": "code",
   "execution_count": 66,
   "metadata": {},
   "outputs": [
    {
     "name": "stdout",
     "output_type": "stream",
     "text": [
      "共分散 : 1.942\n"
     ]
    },
    {
     "data": {
      "text/plain": [
       "array([[1.        , 0.72654537],\n",
       "       [0.72654537, 1.        ]])"
      ]
     },
     "execution_count": 66,
     "metadata": {},
     "output_type": "execute_result"
    }
   ],
   "source": [
    "# Calculate Covariance.\n",
    "cov = sp.cov(batter['OPS'], batter['RBI'], ddof=1)[0][1]\n",
    "print(\"共分散 : {0:.3f}\".format(cov))\n",
    "\n",
    "# Calculate Correlation Coefficient.\n",
    "rho = sp.corrcoef(batter['OPS'], batter['RBI'])#[0][1]\n",
    "#print(\"相関係数 : {0:.3f}\".format(rho))\n",
    "rho"
   ]
  },
  {
   "cell_type": "markdown",
   "metadata": {},
   "source": [
    "- 相関係数が0.73になっており、2変数にやや強い正の相関があることがわかる。"
   ]
  },
  {
   "cell_type": "markdown",
   "metadata": {},
   "source": [
    "### 4.2. 分割表とカイ二乗検定\n",
    "- データ間に統計的相関が見られるか確認してみる。分割表の変数が独立であるかカイ二乗検定を適用する。\n",
    "- まず変数を2値化して、分割表を作成する。ここでは、より多くのOPSおよびRBI(打点)をとっている場合にはTrue、そうでなければFalseとする。"
   ]
  },
  {
   "cell_type": "code",
   "execution_count": 72,
   "metadata": {},
   "outputs": [
    {
     "data": {
      "text/html": [
       "<div>\n",
       "<style scoped>\n",
       "    .dataframe tbody tr th:only-of-type {\n",
       "        vertical-align: middle;\n",
       "    }\n",
       "\n",
       "    .dataframe tbody tr th {\n",
       "        vertical-align: top;\n",
       "    }\n",
       "\n",
       "    .dataframe thead th {\n",
       "        text-align: right;\n",
       "    }\n",
       "</style>\n",
       "<table border=\"1\" class=\"dataframe\">\n",
       "  <thead>\n",
       "    <tr style=\"text-align: right;\">\n",
       "      <th>RBI_bi</th>\n",
       "      <th>False</th>\n",
       "      <th>True</th>\n",
       "    </tr>\n",
       "    <tr>\n",
       "      <th>OPS_bi</th>\n",
       "      <th></th>\n",
       "      <th></th>\n",
       "    </tr>\n",
       "  </thead>\n",
       "  <tbody>\n",
       "    <tr>\n",
       "      <th>False</th>\n",
       "      <td>39</td>\n",
       "      <td>12</td>\n",
       "    </tr>\n",
       "    <tr>\n",
       "      <th>True</th>\n",
       "      <td>12</td>\n",
       "      <td>39</td>\n",
       "    </tr>\n",
       "  </tbody>\n",
       "</table>\n",
       "</div>"
      ],
      "text/plain": [
       "RBI_bi  False  True \n",
       "OPS_bi              \n",
       "False      39     12\n",
       "True       12     39"
      ]
     },
     "execution_count": 72,
     "metadata": {},
     "output_type": "execute_result"
    }
   ],
   "source": [
    "batter['OPS_bi'] = batter['OPS'] > batter['OPS'].median()\n",
    "batter['RBI_bi'] = batter['RBI'] > batter['RBI'].median()\n",
    "cross = pd.crosstab(batter['OPS_bi'], batter['RBI_bi']).dropna()\n",
    "cross.head()"
   ]
  },
  {
   "cell_type": "markdown",
   "metadata": {},
   "source": [
    "- 帰無仮説は「2つの変数はそれぞれ独立である」としてカイ二乗検定を適用する。"
   ]
  },
  {
   "cell_type": "code",
   "execution_count": 73,
   "metadata": {},
   "outputs": [
    {
     "data": {
      "text/plain": [
       "(26.50980392156863, 2.622040350594582e-07, 1, array([[25.5, 25.5],\n",
       "        [25.5, 25.5]]))"
      ]
     },
     "execution_count": 73,
     "metadata": {},
     "output_type": "execute_result"
    }
   ],
   "source": [
    "st.chi2_contingency(cross)"
   ]
  },
  {
   "cell_type": "markdown",
   "metadata": {},
   "source": [
    "- これより、p値=$2.6\\times 10^{-7}$となり、0.05(=累積確率5%)と比較して非常に小さいため、帰無仮説が棄却され、OPSとRBI(打点)との間には、統計的に明確な相関があることが示された。"
   ]
  },
  {
   "cell_type": "markdown",
   "metadata": {},
   "source": [
    "### 4.2. 散布図と回帰直線\n",
    "- OPSとRBIの散布図に対して、回帰直線を適用する。\n",
    "- 回帰直線自体はseabornのlmplot関数を用いて簡単に図示することができる。網掛け部分は回帰直線の95%信頼区間を表している。"
   ]
  },
  {
   "cell_type": "code",
   "execution_count": 51,
   "metadata": {},
   "outputs": [
    {
     "data": {
      "text/plain": [
       "<seaborn.axisgrid.FacetGrid at 0x6bccbfd0>"
      ]
     },
     "execution_count": 51,
     "metadata": {},
     "output_type": "execute_result"
    },
    {
     "data": {
      "image/png": "[encoded data removed]",
      "text/plain": [
       "<Figure size 360x360 with 1 Axes>"
      ]
     },
     "metadata": {},
     "output_type": "display_data"
    }
   ],
   "source": [
    "sns.lmplot(x='OPS', y='RBI', data=batter, scatter_kws={'color':'b'}, line_kws={'color':'r'})"
   ]
  },
  {
   "cell_type": "markdown",
   "metadata": {},
   "source": [
    "- 正規線形モデル推定\"statsmodels.formula.api\"において\"ols(最小二乗法)\"を用いる。\n",
    "- ここでは\"formula\"において、応答変数をRBI、説明変数をOPSとする推定を行う。\n",
    "- 最後に\".fit()\"をつけてフィッテイングを行う。これでパラメタ推定までが自動的に終わる。"
   ]
  },
  {
   "cell_type": "code",
   "execution_count": 76,
   "metadata": {},
   "outputs": [],
   "source": [
    "lm_model = smf.ols(formula=\"RBI ~ OPS\", data=batter).fit()"
   ]
  },
  {
   "cell_type": "code",
   "execution_count": 77,
   "metadata": {},
   "outputs": [
    {
     "data": {
      "text/html": [
       "<table class=\"simpletable\">\n",
       "<caption>OLS Regression Results</caption>\n",
       "<tr>\n",
       "  <th>Dep. Variable:</th>           <td>RBI</td>       <th>  R-squared:         </th> <td>   0.528</td>\n",
       "</tr>\n",
       "<tr>\n",
       "  <th>Model:</th>                   <td>OLS</td>       <th>  Adj. R-squared:    </th> <td>   0.523</td>\n",
       "</tr>\n",
       "<tr>\n",
       "  <th>Method:</th>             <td>Least Squares</td>  <th>  F-statistic:       </th> <td>   111.8</td>\n",
       "</tr>\n",
       "<tr>\n",
       "  <th>Date:</th>             <td>Mon, 18 Jun 2018</td> <th>  Prob (F-statistic):</th> <td>5.48e-18</td>\n",
       "</tr>\n",
       "<tr>\n",
       "  <th>Time:</th>                 <td>12:54:53</td>     <th>  Log-Likelihood:    </th> <td> -437.05</td>\n",
       "</tr>\n",
       "<tr>\n",
       "  <th>No. Observations:</th>      <td>   102</td>      <th>  AIC:               </th> <td>   878.1</td>\n",
       "</tr>\n",
       "<tr>\n",
       "  <th>Df Residuals:</th>          <td>   100</td>      <th>  BIC:               </th> <td>   883.3</td>\n",
       "</tr>\n",
       "<tr>\n",
       "  <th>Df Model:</th>              <td>     1</td>      <th>                     </th>     <td> </td>   \n",
       "</tr>\n",
       "<tr>\n",
       "  <th>Covariance Type:</th>      <td>nonrobust</td>    <th>                     </th>     <td> </td>   \n",
       "</tr>\n",
       "</table>\n",
       "<table class=\"simpletable\">\n",
       "<tr>\n",
       "      <td></td>         <th>coef</th>     <th>std err</th>      <th>t</th>      <th>P>|t|</th>  <th>[0.025</th>    <th>0.975]</th>  \n",
       "</tr>\n",
       "<tr>\n",
       "  <th>Intercept</th> <td>  -83.5958</td> <td>   12.362</td> <td>   -6.762</td> <td> 0.000</td> <td> -108.122</td> <td>  -59.069</td>\n",
       "</tr>\n",
       "<tr>\n",
       "  <th>OPS</th>       <td>  179.4126</td> <td>   16.968</td> <td>   10.574</td> <td> 0.000</td> <td>  145.749</td> <td>  213.076</td>\n",
       "</tr>\n",
       "</table>\n",
       "<table class=\"simpletable\">\n",
       "<tr>\n",
       "  <th>Omnibus:</th>       <td> 3.430</td> <th>  Durbin-Watson:     </th> <td>   1.681</td>\n",
       "</tr>\n",
       "<tr>\n",
       "  <th>Prob(Omnibus):</th> <td> 0.180</td> <th>  Jarque-Bera (JB):  </th> <td>   3.420</td>\n",
       "</tr>\n",
       "<tr>\n",
       "  <th>Skew:</th>          <td> 0.413</td> <th>  Prob(JB):          </th> <td>   0.181</td>\n",
       "</tr>\n",
       "<tr>\n",
       "  <th>Kurtosis:</th>      <td> 2.648</td> <th>  Cond. No.          </th> <td>    14.7</td>\n",
       "</tr>\n",
       "</table><br/><br/>Warnings:<br/>[1] Standard Errors assume that the covariance matrix of the errors is correctly specified."
      ],
      "text/plain": [
       "<class 'statsmodels.iolib.summary.Summary'>\n",
       "\"\"\"\n",
       "                            OLS Regression Results                            \n",
       "==============================================================================\n",
       "Dep. Variable:                    RBI   R-squared:                       0.528\n",
       "Model:                            OLS   Adj. R-squared:                  0.523\n",
       "Method:                 Least Squares   F-statistic:                     111.8\n",
       "Date:                Mon, 18 Jun 2018   Prob (F-statistic):           5.48e-18\n",
       "Time:                        12:54:53   Log-Likelihood:                -437.05\n",
       "No. Observations:                 102   AIC:                             878.1\n",
       "Df Residuals:                     100   BIC:                             883.3\n",
       "Df Model:                           1                                         \n",
       "Covariance Type:            nonrobust                                         \n",
       "==============================================================================\n",
       "                 coef    std err          t      P>|t|      [0.025      0.975]\n",
       "------------------------------------------------------------------------------\n",
       "Intercept    -83.5958     12.362     -6.762      0.000    -108.122     -59.069\n",
       "OPS          179.4126     16.968     10.574      0.000     145.749     213.076\n",
       "==============================================================================\n",
       "Omnibus:                        3.430   Durbin-Watson:                   1.681\n",
       "Prob(Omnibus):                  0.180   Jarque-Bera (JB):                3.420\n",
       "Skew:                           0.413   Prob(JB):                        0.181\n",
       "Kurtosis:                       2.648   Cond. No.                         14.7\n",
       "==============================================================================\n",
       "\n",
       "Warnings:\n",
       "[1] Standard Errors assume that the covariance matrix of the errors is correctly specified.\n",
       "\"\"\""
      ]
     },
     "execution_count": 77,
     "metadata": {},
     "output_type": "execute_result"
    }
   ],
   "source": [
    "lm_model.summary()"
   ]
  },
  {
   "cell_type": "markdown",
   "metadata": {},
   "source": [
    "- この二つ目の分割表より、回帰式は\n",
    "$$ y(RBI) = 179.41 \\times (OPS) - 83.60 $$\n",
    "となる。\n",
    "- また帰無仮説を「RBIに対するOPSの係数の値が0である」としたときのp値があまりに小さすぎて、桁落ちで0となっている。RBIに対してOPSにかかる係数は有意に0とは異なると判断できる。"
   ]
  }
 ],
 "metadata": {
  "kernelspec": {
   "display_name": "Python 3",
   "language": "python",
   "name": "python3"
  },
  "language_info": {
   "codemirror_mode": {
    "name": "ipython",
    "version": 3
   },
   "file_extension": ".py",
   "mimetype": "text/x-python",
   "name": "python",
   "nbconvert_exporter": "python",
   "pygments_lexer": "ipython3",
   "version": "3.6.5"
  }
 },
 "nbformat": 4,
 "nbformat_minor": 2
}
