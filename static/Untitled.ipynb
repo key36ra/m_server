{
 "cells": [
  {
   "cell_type": "markdown",
   "metadata": {},
   "source": [
    "- http://www.e-stat.go.jp/api/api-data/ から国税調査の政府統計データを調べる。\n",
    "- APIから国勢調査の情報ファイルを入手(json形式)。\n",
    "```shell\n",
    "curl -s 'http://api.e-stat.go.jp/rest/2.1/app/json/getStatsList?appId=<appID>?statsCode=00200521' > census.json\n",
    "```\n",
    "- そのファイルから「年齢別・男女別人口」のデータセットIDを調べる。\n",
    "- そのデータセットIDを用いて、人口データをAPIから入手する(csv形式)。\n",
    "```shell\n",
    "curl -s 'http://api.e-stat.go.jp/rest/2.1/app/getSimpleStatsData?appId=<appID>?statsDataId=0003142014' > census_h27_population.csv\n",
    "```"
   ]
  },
  {
   "cell_type": "code",
   "execution_count": 1,
   "metadata": {},
   "outputs": [],
   "source": [
    "import urllib.request\n",
    "import pandas as pd"
   ]
  },
  {
   "cell_type": "code",
   "execution_count": 2,
   "metadata": {},
   "outputs": [
    {
     "data": {
      "text/plain": [
       "b'\"RESULT\"\\n\"STATUS\",\"100\"\\n\"ERROR_MSG\",\"\\xe8\\xaa\\x8d\\xe8\\xa8\\xbc\\xe3\\x81\\xab\\xe5\\xa4\\xb1\\xe6\\x95\\x97\\xe3\\x81\\x97\\xe3\\x81\\xbe\\xe3\\x81\\x97\\xe3\\x81\\x9f\\xe3\\x80\\x82\\xe3\\x82\\xa2\\xe3\\x83\\x97\\xe3\\x83\\xaa\\xe3\\x82\\xb1\\xe3\\x83\\xbc\\xe3\\x82\\xb7\\xe3\\x83\\xa7\\xe3\\x83\\xb3ID\\xe3\\x82\\x92\\xe7\\xa2\\xba\\xe8\\xaa\\x8d\\xe3\\x81\\x97\\xe3\\x81\\xa6\\xe4\\xb8\\x8b\\xe3\\x81\\x95\\xe3\\x81\\x84\\xe3\\x80\\x82\"\\n\"DATE\",\"2018-06-13T09:55:03.330+09:00\"\\n'"
      ]
     },
     "execution_count": 2,
     "metadata": {},
     "output_type": "execute_result"
    }
   ],
   "source": [
    "url = \"http://api.e-stat.go.jp/rest/2.1/app/getSimpleStatsData?appId=58a0517593bc0a97d3d9cbbda0021a85d5ebbd5c?statsDataId=0003142014\"\n",
    "csv_text = urllib.request.urlopen(url).read()\n",
    "csv_text"
   ]
  }
 ],
 "metadata": {
  "kernelspec": {
   "display_name": "Python 3",
   "language": "python",
   "name": "python3"
  },
  "language_info": {
   "codemirror_mode": {
    "name": "ipython",
    "version": 3
   },
   "file_extension": ".py",
   "mimetype": "text/x-python",
   "name": "python",
   "nbconvert_exporter": "python",
   "pygments_lexer": "ipython3",
   "version": "3.6.5"
  }
 },
 "nbformat": 4,
 "nbformat_minor": 2
}
